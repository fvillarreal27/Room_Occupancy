{
  "cells": [
    {
      "cell_type": "markdown",
      "metadata": {
        "id": "5MViHLx3Fv5f"
      },
      "source": [
        "### **Room Occupancy**\n",
        "\n",
        "#### **Machine Learning**\n",
        "\n",
        "**Elaborado por:** Fabian Villarreal Sosa"
      ]
    },
    {
      "cell_type": "code",
      "execution_count": 448,
      "metadata": {
        "id": "8GBFPCy8F1dV"
      },
      "outputs": [],
      "source": [
        "# Librerias\n",
        "import os\n",
        "import pandas as pd\n",
        "import numpy as np\n",
        "\n",
        "import matplotlib.pyplot as plt\n",
        "import matplotlib.ticker as mtick\n",
        "from matplotlib.dates import DateFormatter\n",
        "import matplotlib.dates as mdates\n",
        "import seaborn as sns\n",
        "\n",
        "from google.colab import drive"
      ]
    },
    {
      "cell_type": "code",
      "execution_count": 449,
      "metadata": {
        "colab": {
          "base_uri": "https://localhost:8080/"
        },
        "id": "hBynU2IfFzqP",
        "outputId": "346b7b31-af06-490f-c8d0-de33a65bb158"
      },
      "outputs": [
        {
          "name": "stdout",
          "output_type": "stream",
          "text": [
            "Drive already mounted at /content/drive; to attempt to forcibly remount, call drive.mount(\"/content/drive\", force_remount=True).\n"
          ]
        }
      ],
      "source": [
        "# Acceder a directorio en Google Drive\n",
        "drive.mount('/content/drive')"
      ]
    },
    {
      "cell_type": "code",
      "execution_count": 450,
      "metadata": {
        "colab": {
          "base_uri": "https://localhost:8080/",
          "height": 36
        },
        "id": "kCvNr4j3F3Tp",
        "outputId": "fdd16368-ebe1-40da-f1da-ec1f321b9397"
      },
      "outputs": [
        {
          "data": {
            "application/vnd.google.colaboratory.intrinsic+json": {
              "type": "string"
            },
            "text/plain": [
              "'/content/drive/MyDrive/Coding Dojo/Examenes/Examen2/Datos'"
            ]
          },
          "execution_count": 450,
          "metadata": {},
          "output_type": "execute_result"
        }
      ],
      "source": [
        "# Determinar directorio\n",
        "os.chdir('/content/drive/MyDrive/Coding Dojo/Examenes/Examen2/Datos/')\n",
        "os.getcwd()"
      ]
    },
    {
      "cell_type": "code",
      "execution_count": 451,
      "metadata": {
        "colab": {
          "base_uri": "https://localhost:8080/",
          "height": 85
        },
        "id": "mfDRP7OVIZ0R",
        "outputId": "45dd0cfc-2e95-4bc4-ae0d-28e01a2bcfa0"
      },
      "outputs": [
        {
          "data": {
            "image/png": "[encoded data removed]",
            "text/plain": [
              "<Figure size 720x72 with 1 Axes>"
            ]
          },
          "metadata": {},
          "output_type": "display_data"
        }
      ],
      "source": [
        "# Estilo de los graficos\n",
        "sns.set_style('white')\n",
        "csfont = {'fontname':'Calibri'}\n",
        "\n",
        "# Paleta de colores\n",
        "my_palette = ['#4472C4', '#ED7D31', '#A5A5A5', '#FFC000', '#5B9BD5', '#70AD47', '#264478', '#9E480E', '#636363', '#997300'] # Excel color palette\n",
        "my_palette2 = sns.color_palette('tab10')\n",
        "sns.palplot(sns.color_palette('tab10'))\n",
        "\n",
        "# Definir paleta\n",
        "sns.set_palette(my_palette2)"
      ]
    },
    {
      "cell_type": "code",
      "execution_count": 452,
      "metadata": {
        "colab": {
          "base_uri": "https://localhost:8080/",
          "height": 206
        },
        "id": "85AuxxswF7ef",
        "outputId": "fa9c584b-e13a-4ffe-eebb-37d26a9af7dc"
      },
      "outputs": [
        {
          "data": {
            "text/html": [
              "\n",
              "  <div id=\"df-aa25cb96-bbe6-438e-b996-60e9e8c55199\">\n",
              "    <div class=\"colab-df-container\">\n",
              "      <div>\n",
              "<style scoped>\n",
              "    .dataframe tbody tr th:only-of-type {\n",
              "        vertical-align: middle;\n",
              "    }\n",
              "\n",
              "    .dataframe tbody tr th {\n",
              "        vertical-align: top;\n",
              "    }\n",
              "\n",
              "    .dataframe thead th {\n",
              "        text-align: right;\n",
              "    }\n",
              "</style>\n",
              "<table border=\"1\" class=\"dataframe\">\n",
              "  <thead>\n",
              "    <tr style=\"text-align: right;\">\n",
              "      <th></th>\n",
              "      <th>date</th>\n",
              "      <th>Temperature</th>\n",
              "      <th>Humidity</th>\n",
              "      <th>Light</th>\n",
              "      <th>CO2</th>\n",
              "      <th>HumidityRatio</th>\n",
              "      <th>Occupancy</th>\n",
              "    </tr>\n",
              "  </thead>\n",
              "  <tbody>\n",
              "    <tr>\n",
              "      <th>0</th>\n",
              "      <td>2015-02-04 17:51:00</td>\n",
              "      <td>23.18</td>\n",
              "      <td>27.2720</td>\n",
              "      <td>426.0</td>\n",
              "      <td>721.25</td>\n",
              "      <td>0.004793</td>\n",
              "      <td>1</td>\n",
              "    </tr>\n",
              "    <tr>\n",
              "      <th>1</th>\n",
              "      <td>2015-02-04 17:51:59</td>\n",
              "      <td>23.15</td>\n",
              "      <td>27.2675</td>\n",
              "      <td>429.5</td>\n",
              "      <td>714.00</td>\n",
              "      <td>0.004783</td>\n",
              "      <td>1</td>\n",
              "    </tr>\n",
              "    <tr>\n",
              "      <th>2</th>\n",
              "      <td>2015-02-04 17:53:00</td>\n",
              "      <td>23.15</td>\n",
              "      <td>27.2450</td>\n",
              "      <td>426.0</td>\n",
              "      <td>713.50</td>\n",
              "      <td>0.004779</td>\n",
              "      <td>1</td>\n",
              "    </tr>\n",
              "    <tr>\n",
              "      <th>3</th>\n",
              "      <td>2015-02-04 17:54:00</td>\n",
              "      <td>23.15</td>\n",
              "      <td>27.2000</td>\n",
              "      <td>426.0</td>\n",
              "      <td>708.25</td>\n",
              "      <td>0.004772</td>\n",
              "      <td>1</td>\n",
              "    </tr>\n",
              "    <tr>\n",
              "      <th>4</th>\n",
              "      <td>2015-02-04 17:55:00</td>\n",
              "      <td>23.10</td>\n",
              "      <td>27.2000</td>\n",
              "      <td>426.0</td>\n",
              "      <td>704.50</td>\n",
              "      <td>0.004757</td>\n",
              "      <td>1</td>\n",
              "    </tr>\n",
              "  </tbody>\n",
              "</table>\n",
              "</div>\n",
              "      <button class=\"colab-df-convert\" onclick=\"convertToInteractive('df-aa25cb96-bbe6-438e-b996-60e9e8c55199')\"\n",
              "              title=\"Convert this dataframe to an interactive table.\"\n",
              "              style=\"display:none;\">\n",
              "        \n",
              "  <svg xmlns=\"http://www.w3.org/2000/svg\" height=\"24px\"viewBox=\"0 0 24 24\"\n",
              "       width=\"24px\">\n",
              "    <path d=\"M0 0h24v24H0V0z\" fill=\"none\"/>\n",
              "    <path d=\"M18.56 5.44l.94 2.06.94-2.06 2.06-.94-2.06-.94-.94-2.06-.94 2.06-2.06.94zm-11 1L8.5 8.5l.94-2.06 2.06-.94-2.06-.94L8.5 2.5l-.94 2.06-2.06.94zm10 10l.94 2.06.94-2.06 2.06-.94-2.06-.94-.94-2.06-.94 2.06-2.06.94z\"/><path d=\"M17.41 7.96l-1.37-1.37c-.4-.4-.92-.59-1.43-.59-.52 0-1.04.2-1.43.59L10.3 9.45l-7.72 7.72c-.78.78-.78 2.05 0 2.83L4 21.41c.39.39.9.59 1.41.59.51 0 1.02-.2 1.41-.59l7.78-7.78 2.81-2.81c.8-.78.8-2.07 0-2.86zM5.41 20L4 18.59l7.72-7.72 1.47 1.35L5.41 20z\"/>\n",
              "  </svg>\n",
              "      </button>\n",
              "      \n",
              "  <style>\n",
              "    .colab-df-container {\n",
              "      display:flex;\n",
              "      flex-wrap:wrap;\n",
              "      gap: 12px;\n",
              "    }\n",
              "\n",
              "    .colab-df-convert {\n",
              "      background-color: #E8F0FE;\n",
              "      border: none;\n",
              "      border-radius: 50%;\n",
              "      cursor: pointer;\n",
              "      display: none;\n",
              "      fill: #1967D2;\n",
              "      height: 32px;\n",
              "      padding: 0 0 0 0;\n",
              "      width: 32px;\n",
              "    }\n",
              "\n",
              "    .colab-df-convert:hover {\n",
              "      background-color: #E2EBFA;\n",
              "      box-shadow: 0px 1px 2px rgba(60, 64, 67, 0.3), 0px 1px 3px 1px rgba(60, 64, 67, 0.15);\n",
              "      fill: #174EA6;\n",
              "    }\n",
              "\n",
              "    [theme=dark] .colab-df-convert {\n",
              "      background-color: #3B4455;\n",
              "      fill: #D2E3FC;\n",
              "    }\n",
              "\n",
              "    [theme=dark] .colab-df-convert:hover {\n",
              "      background-color: #434B5C;\n",
              "      box-shadow: 0px 1px 3px 1px rgba(0, 0, 0, 0.15);\n",
              "      filter: drop-shadow(0px 1px 2px rgba(0, 0, 0, 0.3));\n",
              "      fill: #FFFFFF;\n",
              "    }\n",
              "  </style>\n",
              "\n",
              "      <script>\n",
              "        const buttonEl =\n",
              "          document.querySelector('#df-aa25cb96-bbe6-438e-b996-60e9e8c55199 button.colab-df-convert');\n",
              "        buttonEl.style.display =\n",
              "          google.colab.kernel.accessAllowed ? 'block' : 'none';\n",
              "\n",
              "        async function convertToInteractive(key) {\n",
              "          const element = document.querySelector('#df-aa25cb96-bbe6-438e-b996-60e9e8c55199');\n",
              "          const dataTable =\n",
              "            await google.colab.kernel.invokeFunction('convertToInteractive',\n",
              "                                                     [key], {});\n",
              "          if (!dataTable) return;\n",
              "\n",
              "          const docLinkHtml = 'Like what you see? Visit the ' +\n",
              "            '<a target=\"_blank\" href=https://colab.research.google.com/notebooks/data_table.ipynb>data table notebook</a>'\n",
              "            + ' to learn more about interactive tables.';\n",
              "          element.innerHTML = '';\n",
              "          dataTable['output_type'] = 'display_data';\n",
              "          await google.colab.output.renderOutput(dataTable, element);\n",
              "          const docLink = document.createElement('div');\n",
              "          docLink.innerHTML = docLinkHtml;\n",
              "          element.appendChild(docLink);\n",
              "        }\n",
              "      </script>\n",
              "    </div>\n",
              "  </div>\n",
              "  "
            ],
            "text/plain": [
              "                  date  Temperature  Humidity  Light     CO2  HumidityRatio  \\\n",
              "0  2015-02-04 17:51:00        23.18   27.2720  426.0  721.25       0.004793   \n",
              "1  2015-02-04 17:51:59        23.15   27.2675  429.5  714.00       0.004783   \n",
              "2  2015-02-04 17:53:00        23.15   27.2450  426.0  713.50       0.004779   \n",
              "3  2015-02-04 17:54:00        23.15   27.2000  426.0  708.25       0.004772   \n",
              "4  2015-02-04 17:55:00        23.10   27.2000  426.0  704.50       0.004757   \n",
              "\n",
              "   Occupancy  \n",
              "0          1  \n",
              "1          1  \n",
              "2          1  \n",
              "3          1  \n",
              "4          1  "
            ]
          },
          "execution_count": 452,
          "metadata": {},
          "output_type": "execute_result"
        }
      ],
      "source": [
        "# Cargar los datos\n",
        "df = pd.read_csv('occupancy.csv')\n",
        "df.head()"
      ]
    },
    {
      "cell_type": "markdown",
      "metadata": {
        "id": "OFolDWhtIqBg"
      },
      "source": [
        "#### **Limpieza y data mining**"
      ]
    },
    {
      "cell_type": "code",
      "execution_count": 453,
      "metadata": {
        "colab": {
          "base_uri": "https://localhost:8080/"
        },
        "id": "xsTc9Tn-GimF",
        "outputId": "3e0f7464-e1b7-45c5-b41f-c047c276b781"
      },
      "outputs": [
        {
          "data": {
            "text/plain": [
              "(8143, 7)"
            ]
          },
          "execution_count": 453,
          "metadata": {},
          "output_type": "execute_result"
        }
      ],
      "source": [
        "# Dimensiones de la base de datos\n",
        "df.shape\n",
        "# La base consta de 8,143 registros y 7 variables"
      ]
    },
    {
      "cell_type": "code",
      "execution_count": 454,
      "metadata": {
        "colab": {
          "base_uri": "https://localhost:8080/"
        },
        "id": "3e_qatqXJB2C",
        "outputId": "463895a1-222a-409e-bfd7-555a383536e4"
      },
      "outputs": [
        {
          "data": {
            "text/plain": [
              "Index([], dtype='object')"
            ]
          },
          "execution_count": 454,
          "metadata": {},
          "output_type": "execute_result"
        }
      ],
      "source": [
        "# Ver si existen valores perdidos\n",
        "columnas_nans = df.columns[df.isna().any()] # Seleccionar columnas que tienen al menos un valor perdido\n",
        "columnas_nans\n",
        "# No existen valores perdidos"
      ]
    },
    {
      "cell_type": "code",
      "execution_count": 455,
      "metadata": {
        "colab": {
          "base_uri": "https://localhost:8080/"
        },
        "id": "2p3j7hPuItDn",
        "outputId": "e2db3872-cdf9-433b-ed57-d1f5940fdb67"
      },
      "outputs": [
        {
          "name": "stdout",
          "output_type": "stream",
          "text": [
            "<class 'pandas.core.frame.DataFrame'>\n",
            "RangeIndex: 8143 entries, 0 to 8142\n",
            "Data columns (total 7 columns):\n",
            " #   Column         Non-Null Count  Dtype  \n",
            "---  ------         --------------  -----  \n",
            " 0   date           8143 non-null   object \n",
            " 1   Temperature    8143 non-null   float64\n",
            " 2   Humidity       8143 non-null   float64\n",
            " 3   Light          8143 non-null   float64\n",
            " 4   CO2            8143 non-null   float64\n",
            " 5   HumidityRatio  8143 non-null   float64\n",
            " 6   Occupancy      8143 non-null   int64  \n",
            "dtypes: float64(5), int64(1), object(1)\n",
            "memory usage: 445.4+ KB\n"
          ]
        }
      ],
      "source": [
        "# Informacion de la estructura de la base \n",
        "df.info()"
      ]
    },
    {
      "cell_type": "code",
      "execution_count": 456,
      "metadata": {
        "id": "NjdUbEsLM7S-"
      },
      "outputs": [],
      "source": [
        "# Convertir columna date de objeto a datos de tiempo\n",
        "df['date'] = pd.to_datetime(df['date'])"
      ]
    },
    {
      "cell_type": "code",
      "execution_count": 457,
      "metadata": {
        "colab": {
          "base_uri": "https://localhost:8080/",
          "height": 300
        },
        "id": "6qBCnG6QKAEi",
        "outputId": "f3707a42-9c60-4e5a-d9c2-ea10226473ba"
      },
      "outputs": [
        {
          "data": {
            "text/html": [
              "\n",
              "  <div id=\"df-ecc9df04-010b-45a2-8f13-5bff7dfd5176\">\n",
              "    <div class=\"colab-df-container\">\n",
              "      <div>\n",
              "<style scoped>\n",
              "    .dataframe tbody tr th:only-of-type {\n",
              "        vertical-align: middle;\n",
              "    }\n",
              "\n",
              "    .dataframe tbody tr th {\n",
              "        vertical-align: top;\n",
              "    }\n",
              "\n",
              "    .dataframe thead th {\n",
              "        text-align: right;\n",
              "    }\n",
              "</style>\n",
              "<table border=\"1\" class=\"dataframe\">\n",
              "  <thead>\n",
              "    <tr style=\"text-align: right;\">\n",
              "      <th></th>\n",
              "      <th>Temperature</th>\n",
              "      <th>Humidity</th>\n",
              "      <th>Light</th>\n",
              "      <th>CO2</th>\n",
              "      <th>HumidityRatio</th>\n",
              "      <th>Occupancy</th>\n",
              "    </tr>\n",
              "  </thead>\n",
              "  <tbody>\n",
              "    <tr>\n",
              "      <th>count</th>\n",
              "      <td>8143.000000</td>\n",
              "      <td>8143.000000</td>\n",
              "      <td>8143.000000</td>\n",
              "      <td>8143.000000</td>\n",
              "      <td>8143.000000</td>\n",
              "      <td>8143.000000</td>\n",
              "    </tr>\n",
              "    <tr>\n",
              "      <th>mean</th>\n",
              "      <td>20.619084</td>\n",
              "      <td>25.731507</td>\n",
              "      <td>119.519375</td>\n",
              "      <td>606.546243</td>\n",
              "      <td>0.003863</td>\n",
              "      <td>0.212330</td>\n",
              "    </tr>\n",
              "    <tr>\n",
              "      <th>std</th>\n",
              "      <td>1.016916</td>\n",
              "      <td>5.531211</td>\n",
              "      <td>194.755805</td>\n",
              "      <td>314.320877</td>\n",
              "      <td>0.000852</td>\n",
              "      <td>0.408982</td>\n",
              "    </tr>\n",
              "    <tr>\n",
              "      <th>min</th>\n",
              "      <td>19.000000</td>\n",
              "      <td>16.745000</td>\n",
              "      <td>0.000000</td>\n",
              "      <td>412.750000</td>\n",
              "      <td>0.002674</td>\n",
              "      <td>0.000000</td>\n",
              "    </tr>\n",
              "    <tr>\n",
              "      <th>25%</th>\n",
              "      <td>19.700000</td>\n",
              "      <td>20.200000</td>\n",
              "      <td>0.000000</td>\n",
              "      <td>439.000000</td>\n",
              "      <td>0.003078</td>\n",
              "      <td>0.000000</td>\n",
              "    </tr>\n",
              "    <tr>\n",
              "      <th>50%</th>\n",
              "      <td>20.390000</td>\n",
              "      <td>26.222500</td>\n",
              "      <td>0.000000</td>\n",
              "      <td>453.500000</td>\n",
              "      <td>0.003801</td>\n",
              "      <td>0.000000</td>\n",
              "    </tr>\n",
              "    <tr>\n",
              "      <th>75%</th>\n",
              "      <td>21.390000</td>\n",
              "      <td>30.533333</td>\n",
              "      <td>256.375000</td>\n",
              "      <td>638.833333</td>\n",
              "      <td>0.004352</td>\n",
              "      <td>0.000000</td>\n",
              "    </tr>\n",
              "    <tr>\n",
              "      <th>max</th>\n",
              "      <td>23.180000</td>\n",
              "      <td>39.117500</td>\n",
              "      <td>1546.333333</td>\n",
              "      <td>2028.500000</td>\n",
              "      <td>0.006476</td>\n",
              "      <td>1.000000</td>\n",
              "    </tr>\n",
              "  </tbody>\n",
              "</table>\n",
              "</div>\n",
              "      <button class=\"colab-df-convert\" onclick=\"convertToInteractive('df-ecc9df04-010b-45a2-8f13-5bff7dfd5176')\"\n",
              "              title=\"Convert this dataframe to an interactive table.\"\n",
              "              style=\"display:none;\">\n",
              "        \n",
              "  <svg xmlns=\"http://www.w3.org/2000/svg\" height=\"24px\"viewBox=\"0 0 24 24\"\n",
              "       width=\"24px\">\n",
              "    <path d=\"M0 0h24v24H0V0z\" fill=\"none\"/>\n",
              "    <path d=\"M18.56 5.44l.94 2.06.94-2.06 2.06-.94-2.06-.94-.94-2.06-.94 2.06-2.06.94zm-11 1L8.5 8.5l.94-2.06 2.06-.94-2.06-.94L8.5 2.5l-.94 2.06-2.06.94zm10 10l.94 2.06.94-2.06 2.06-.94-2.06-.94-.94-2.06-.94 2.06-2.06.94z\"/><path d=\"M17.41 7.96l-1.37-1.37c-.4-.4-.92-.59-1.43-.59-.52 0-1.04.2-1.43.59L10.3 9.45l-7.72 7.72c-.78.78-.78 2.05 0 2.83L4 21.41c.39.39.9.59 1.41.59.51 0 1.02-.2 1.41-.59l7.78-7.78 2.81-2.81c.8-.78.8-2.07 0-2.86zM5.41 20L4 18.59l7.72-7.72 1.47 1.35L5.41 20z\"/>\n",
              "  </svg>\n",
              "      </button>\n",
              "      \n",
              "  <style>\n",
              "    .colab-df-container {\n",
              "      display:flex;\n",
              "      flex-wrap:wrap;\n",
              "      gap: 12px;\n",
              "    }\n",
              "\n",
              "    .colab-df-convert {\n",
              "      background-color: #E8F0FE;\n",
              "      border: none;\n",
              "      border-radius: 50%;\n",
              "      cursor: pointer;\n",
              "      display: none;\n",
              "      fill: #1967D2;\n",
              "      height: 32px;\n",
              "      padding: 0 0 0 0;\n",
              "      width: 32px;\n",
              "    }\n",
              "\n",
              "    .colab-df-convert:hover {\n",
              "      background-color: #E2EBFA;\n",
              "      box-shadow: 0px 1px 2px rgba(60, 64, 67, 0.3), 0px 1px 3px 1px rgba(60, 64, 67, 0.15);\n",
              "      fill: #174EA6;\n",
              "    }\n",
              "\n",
              "    [theme=dark] .colab-df-convert {\n",
              "      background-color: #3B4455;\n",
              "      fill: #D2E3FC;\n",
              "    }\n",
              "\n",
              "    [theme=dark] .colab-df-convert:hover {\n",
              "      background-color: #434B5C;\n",
              "      box-shadow: 0px 1px 3px 1px rgba(0, 0, 0, 0.15);\n",
              "      filter: drop-shadow(0px 1px 2px rgba(0, 0, 0, 0.3));\n",
              "      fill: #FFFFFF;\n",
              "    }\n",
              "  </style>\n",
              "\n",
              "      <script>\n",
              "        const buttonEl =\n",
              "          document.querySelector('#df-ecc9df04-010b-45a2-8f13-5bff7dfd5176 button.colab-df-convert');\n",
              "        buttonEl.style.display =\n",
              "          google.colab.kernel.accessAllowed ? 'block' : 'none';\n",
              "\n",
              "        async function convertToInteractive(key) {\n",
              "          const element = document.querySelector('#df-ecc9df04-010b-45a2-8f13-5bff7dfd5176');\n",
              "          const dataTable =\n",
              "            await google.colab.kernel.invokeFunction('convertToInteractive',\n",
              "                                                     [key], {});\n",
              "          if (!dataTable) return;\n",
              "\n",
              "          const docLinkHtml = 'Like what you see? Visit the ' +\n",
              "            '<a target=\"_blank\" href=https://colab.research.google.com/notebooks/data_table.ipynb>data table notebook</a>'\n",
              "            + ' to learn more about interactive tables.';\n",
              "          element.innerHTML = '';\n",
              "          dataTable['output_type'] = 'display_data';\n",
              "          await google.colab.output.renderOutput(dataTable, element);\n",
              "          const docLink = document.createElement('div');\n",
              "          docLink.innerHTML = docLinkHtml;\n",
              "          element.appendChild(docLink);\n",
              "        }\n",
              "      </script>\n",
              "    </div>\n",
              "  </div>\n",
              "  "
            ],
            "text/plain": [
              "       Temperature     Humidity        Light          CO2  HumidityRatio  \\\n",
              "count  8143.000000  8143.000000  8143.000000  8143.000000    8143.000000   \n",
              "mean     20.619084    25.731507   119.519375   606.546243       0.003863   \n",
              "std       1.016916     5.531211   194.755805   314.320877       0.000852   \n",
              "min      19.000000    16.745000     0.000000   412.750000       0.002674   \n",
              "25%      19.700000    20.200000     0.000000   439.000000       0.003078   \n",
              "50%      20.390000    26.222500     0.000000   453.500000       0.003801   \n",
              "75%      21.390000    30.533333   256.375000   638.833333       0.004352   \n",
              "max      23.180000    39.117500  1546.333333  2028.500000       0.006476   \n",
              "\n",
              "         Occupancy  \n",
              "count  8143.000000  \n",
              "mean      0.212330  \n",
              "std       0.408982  \n",
              "min       0.000000  \n",
              "25%       0.000000  \n",
              "50%       0.000000  \n",
              "75%       0.000000  \n",
              "max       1.000000  "
            ]
          },
          "execution_count": 457,
          "metadata": {},
          "output_type": "execute_result"
        }
      ],
      "source": [
        "# Estadistica descriptiva de la base de datos\n",
        "df.describe()"
      ]
    },
    {
      "cell_type": "code",
      "execution_count": 458,
      "metadata": {
        "id": "YRwMip3DIxfp"
      },
      "outputs": [],
      "source": [
        "# Alrededor del 21.23% de habitaciones/oficinas dentro de la base de datos se ocuparon "
      ]
    },
    {
      "cell_type": "markdown",
      "metadata": {
        "id": "w2z3oqE9Nkib"
      },
      "source": [
        "#### **Visualización y exploración de datos**"
      ]
    },
    {
      "cell_type": "code",
      "execution_count": 459,
      "metadata": {
        "colab": {
          "base_uri": "https://localhost:8080/"
        },
        "id": "n7m34hhEfWI5",
        "outputId": "cb7caedc-4fab-4ce2-d019-e6bb7a37cd79"
      },
      "outputs": [
        {
          "data": {
            "text/plain": [
              "0    6414\n",
              "1    1729\n",
              "Name: Occupancy, dtype: int64"
            ]
          },
          "execution_count": 459,
          "metadata": {},
          "output_type": "execute_result"
        }
      ],
      "source": [
        "df['Occupancy'].value_counts()"
      ]
    },
    {
      "cell_type": "code",
      "execution_count": 460,
      "metadata": {
        "colab": {
          "base_uri": "https://localhost:8080/"
        },
        "id": "1EF3DeFoT3b6",
        "outputId": "6d6d179f-567e-4531-b86c-eb4c35ead98b"
      },
      "outputs": [
        {
          "data": {
            "text/plain": [
              "0    78.77\n",
              "1    21.23\n",
              "Name: Occupancy, dtype: float64"
            ]
          },
          "execution_count": 460,
          "metadata": {},
          "output_type": "execute_result"
        }
      ],
      "source": [
        "round(df['Occupancy'].value_counts() / df.shape[0] * 100, 2)"
      ]
    },
    {
      "cell_type": "code",
      "execution_count": 461,
      "metadata": {
        "colab": {
          "base_uri": "https://localhost:8080/",
          "height": 379
        },
        "id": "uGxFarKuMvKS",
        "outputId": "1bdef9e6-e761-474e-fb5b-75536668b384"
      },
      "outputs": [
        {
          "data": {
            "image/png": "[encoded data removed]",
            "text/plain": [
              "<Figure size 720x360 with 1 Axes>"
            ]
          },
          "metadata": {},
          "output_type": "display_data"
        }
      ],
      "source": [
        "# Visualización de habitaciones/oficinas ocupadas\n",
        "df['Count'] = 1\n",
        "df1 = df.groupby(['Occupancy'])[['Count']].sum().reset_index()\n",
        "\n",
        "sns.barplot(data = df1, x = 'Occupancy', y ='Count')\n",
        "plt.title('Proporción de habitaciones/oficinas ocupadas', fontsize = 15, pad = 20)\n",
        "plt.ylabel('Habitaciones/Oficinas', fontsize = 12, labelpad = 10)\n",
        "plt.xlabel('Ocupación', fontsize = 12, labelpad = 10)\n",
        "plt.xticks([0, 1], ['No', 'Sí'], rotation = 0, fontsize = 12)\n",
        "sns.despine(left = True, bottom = True)\n",
        "plt.gcf().set_size_inches(10 ,5);"
      ]
    },
    {
      "cell_type": "code",
      "execution_count": 462,
      "metadata": {
        "colab": {
          "base_uri": "https://localhost:8080/",
          "height": 625
        },
        "id": "SheWLlwTOA7Q",
        "outputId": "0cef8402-0a5a-4341-efc6-b3994a02d030"
      },
      "outputs": [
        {
          "data": {
            "image/png": "[encoded data removed]",
            "text/plain": [
              "<Figure size 1440x720 with 6 Axes>"
            ]
          },
          "metadata": {},
          "output_type": "display_data"
        }
      ],
      "source": [
        "# Distribucion de variables por ocupacion - Histogramas\n",
        "fig, axes = plt.subplots(nrows = 2, ncols = 3, figsize = (20, 10), sharex = False, sharey = False)\n",
        "plt.subplots_adjust(wspace = 0.2, hspace = 0.3)\n",
        "axes[1, 2].axis('off')\n",
        "\n",
        "# Temperatura\n",
        "sns.histplot(data = df[df['Occupancy'] == 0], x = 'Temperature', stat = 'percent', bins = 50, color = my_palette[0], alpha = 0.3, label = 'No ocupación', ax = axes[0, 0])\n",
        "sns.histplot(data = df[df['Occupancy'] == 1], x = 'Temperature', stat = 'percent', bins = 50, color = my_palette[1], alpha = 0.3, label = 'Ocupación', ax = axes[0, 0])\n",
        "\n",
        "axes[0, 0].set_title('Distribución de la temperatura por ocupación', fontsize = 12)\n",
        "axes[0, 0].legend()\n",
        "axes[0, 0].set_ylabel('Porcentaje', fontsize = 12)\n",
        "axes[0, 0].set_xlabel('Grados Celsius', fontsize = 12)\n",
        "\n",
        "# Humedad\n",
        "sns.histplot(data = df[df['Occupancy'] == 0], x = 'Humidity', stat = 'percent', bins = 50, color = my_palette[0], alpha = 0.3, label = 'No ocupación', ax = axes[0, 1])\n",
        "sns.histplot(data = df[df['Occupancy'] == 1], x = 'Humidity', stat = 'percent', bins = 50, color = my_palette[1], alpha = 0.3, label = 'Ocupación', ax = axes[0, 1])\n",
        "\n",
        "axes[0, 1].set_title('Distribución de la humedad por ocupación', fontsize = 12)\n",
        "axes[0, 1].legend()\n",
        "axes[0, 1].set_ylabel('Porcentaje', fontsize = 12)\n",
        "axes[0, 1].set_xlabel('Humedad relativa %', fontsize = 12)\n",
        "\n",
        "# Luz\n",
        "sns.histplot(data = df[df['Occupancy'] == 0], x = 'Light', stat = 'percent', bins = 50, color = my_palette[0], alpha = 0.3, label = 'No ocupación', ax = axes[0, 2])\n",
        "sns.histplot(data = df[df['Occupancy'] == 1], x = 'Light', stat = 'percent', bins = 50, color = my_palette[1], alpha = 0.3, label = 'Ocupación', ax = axes[0, 2])\n",
        "\n",
        "axes[0, 2].set_title('Distribución de la luminosidad por ocupación', fontsize = 13)\n",
        "axes[0, 2].legend()\n",
        "axes[0, 2].set_ylabel('Porcentaje', fontsize = 12)\n",
        "axes[0, 2].set_xlabel('Lux', fontsize = 12)\n",
        "\n",
        "# CO2\n",
        "sns.histplot(data = df[df['Occupancy'] == 0], x = 'CO2', stat = 'percent', bins = 50, color = my_palette[0], alpha = 0.3, label = 'No ocupación', ax = axes[1, 0])\n",
        "sns.histplot(data = df[df['Occupancy'] == 1], x = 'CO2', stat = 'percent', bins = 50, color = my_palette[1], alpha = 0.3, label = 'Ocupación', ax = axes[1, 0])\n",
        "\n",
        "axes[1, 0].set_title('Distribución del CO2 por ocupación', fontsize = 13)\n",
        "axes[1, 0].legend()\n",
        "axes[1, 0].set_ylabel('Porcentaje', fontsize = 12)\n",
        "axes[1, 0].set_xlabel('ppm', fontsize = 12)\n",
        "\n",
        "# Ratio de humedad\n",
        "sns.histplot(data = df[df['Occupancy'] == 0], x = 'HumidityRatio', stat = 'percent', bins = 50, color = my_palette[0], alpha = 0.3, label = 'No ocupación', ax = axes[1, 1])\n",
        "sns.histplot(data = df[df['Occupancy'] == 1], x = 'HumidityRatio', stat = 'percent', bins = 50, color = my_palette[1], alpha = 0.3, label = 'Ocupación', ax = axes[1, 1])\n",
        "\n",
        "axes[1, 1].set_title('Distribución del ratio de la humedad por ocupación', fontsize = 13)\n",
        "axes[1, 1].legend()\n",
        "axes[1, 1].set_ylabel('Porcentaje', fontsize = 12)\n",
        "axes[1, 1].set_xlabel('kg agua-vapor/kg-aire', fontsize = 12)\n",
        "\n",
        "sns.despine()"
      ]
    },
    {
      "cell_type": "code",
      "execution_count": 463,
      "metadata": {
        "id": "nA7YWYdYxWqV"
      },
      "outputs": [],
      "source": [
        "# Se puede observar que la temperatura, la luminosidad y el CO2 de la habitacion presentan \n",
        "# diferentes distribuciones al considerar las habitaciones/oficinas ocupadas y no ocupadas"
      ]
    },
    {
      "cell_type": "code",
      "execution_count": 464,
      "metadata": {
        "colab": {
          "base_uri": "https://localhost:8080/",
          "height": 622
        },
        "id": "m6DbEIXfS8jk",
        "outputId": "c3384f23-f148-4a94-ddc9-d94ca44c5d9f"
      },
      "outputs": [
        {
          "data": {
            "image/png": "[encoded data removed]",
            "text/plain": [
              "<Figure size 1440x720 with 6 Axes>"
            ]
          },
          "metadata": {},
          "output_type": "display_data"
        }
      ],
      "source": [
        "# Distribucion de variables por ocupacion - Boxplot\n",
        "fig, axes = plt.subplots(nrows = 2, ncols = 3, figsize = (20, 10), sharex = False, sharey = False)\n",
        "plt.subplots_adjust(wspace = 0.2, hspace = 0.3)\n",
        "axes[1, 2].axis('off')\n",
        "\n",
        "# Temperatura\n",
        "sns.boxplot(data = df, x = 'Occupancy', y = 'Temperature', order = [0, 1], notch = True, ax = axes[0, 0])\n",
        "\n",
        "axes[0, 0].set_title('Distribución de la temperatura por ocupación', fontsize = 12)\n",
        "axes[0, 0].set_ylabel('Grados Celsius', fontsize = 12)\n",
        "axes[0, 0].set_xlabel('')\n",
        "plt.sca(axes[0, 0])\n",
        "plt.xticks([0, 1], ['No', 'Sí']); \n",
        "\n",
        "# Humedad\n",
        "sns.boxplot(data = df, x = 'Occupancy', y = 'Humidity', order = [0, 1], notch = True, ax = axes[0, 1])\n",
        "\n",
        "axes[0, 1].set_title('Distribución de la humedad por ocupación', fontsize = 12)\n",
        "axes[0, 1].set_ylabel('Humedad relativa %', fontsize = 12)\n",
        "plt.sca(axes[0, 1])\n",
        "plt.xticks([0, 1], ['No', 'Sí']); \n",
        "\n",
        "# Luz\n",
        "sns.boxplot(data = df, x = 'Occupancy', y = 'Light', order = [0, 1], notch = True, ax = axes[0, 2])\n",
        "\n",
        "axes[0, 2].set_title('Distribución de la luminosidad por ocupación', fontsize = 12)\n",
        "axes[0, 2].set_ylabel('Lux', fontsize = 12)\n",
        "plt.sca(axes[0, 2])\n",
        "plt.xticks([0, 1], ['No', 'Sí']); \n",
        "\n",
        "# CO2\n",
        "sns.boxplot(data = df, x = 'Occupancy', y = 'CO2', order = [0, 1], notch = True, ax = axes[1, 0])\n",
        "\n",
        "axes[1, 0].set_title('Distribución del CO2 por ocupación', fontsize = 12)\n",
        "axes[1, 0].set_ylabel('ppm', fontsize = 12)\n",
        "plt.sca(axes[1, 0])\n",
        "plt.xticks([0, 1], ['No', 'Sí']); \n",
        "\n",
        "# Ratio de humedad\n",
        "sns.boxplot(data = df, x = 'Occupancy', y = 'HumidityRatio', order = [0, 1], notch = True, ax = axes[1, 1])\n",
        "\n",
        "axes[1, 1].set_title('Distribución del ratio de la humedad por ocupación', fontsize = 12)\n",
        "axes[1, 1].set_ylabel('kg agua-vapor/kg-aire', fontsize = 12)\n",
        "plt.sca(axes[1, 1])\n",
        "plt.xticks([0, 1], ['No', 'Sí']); \n",
        "\n",
        "sns.despine()"
      ]
    },
    {
      "cell_type": "code",
      "execution_count": 465,
      "metadata": {
        "id": "Cd4R9xmSVcnB"
      },
      "outputs": [],
      "source": [
        "# Habitaciones/oficinas ocupadas por dia\n",
        "# https://towardsdatascience.com/how-to-group-data-by-different-time-intervals-using-python-pandas-eb7134f9b9b0\n",
        "df_day = df[['date', 'Occupancy']].resample('D', on = 'date').sum()\n",
        "df_day = df_day.reset_index()\n",
        "\n",
        "# https://stackoverflow.com/questions/30222533/create-a-day-of-week-column-in-a-pandas-dataframe-using-python\n",
        "df_day['day_of_week'] = df_day['date'].dt.day_name()"
      ]
    },
    {
      "cell_type": "code",
      "execution_count": 466,
      "metadata": {
        "colab": {
          "base_uri": "https://localhost:8080/",
          "height": 411
        },
        "id": "RMNqOUMrfcd_",
        "outputId": "eb271339-1ee6-449f-f010-fb0846ed8757"
      },
      "outputs": [
        {
          "data": {
            "image/png": "[encoded data removed]",
            "text/plain": [
              "<Figure size 1440x360 with 2 Axes>"
            ]
          },
          "metadata": {},
          "output_type": "display_data"
        }
      ],
      "source": [
        "fig, axes = plt.subplots(nrows = 1, ncols = 2, figsize = (20, 5), sharex = False, sharey = False)\n",
        "# https://www.geeksforgeeks.org/how-to-set-the-spacing-between-subplots-in-matplotlib-in-python/#:~:text=We%20can%20use%20the%20plt,axis%20width%20and%20height%2C%20respectively.\n",
        "plt.subplots_adjust(wspace = 0.2, hspace = 0.3)\n",
        "\n",
        "# Fechas\n",
        "sns.lineplot(data = df_day, x = 'date', y = 'Occupancy', linestyle = '--', ax = axes[0])\n",
        "sns.scatterplot(data = df_day, x = 'date', y = 'Occupancy', ax = axes[0])\n",
        "\n",
        "axes[0].set_title('Habitaciones/Oficina ocupadas', fontsize = 15, pad = 20)\n",
        "axes[0].set_ylabel('')\n",
        "axes[0].set_xlabel('')\n",
        "plt.sca(axes[0])\n",
        "plt.xticks(fontsize = 12, rotation = 90)\n",
        "plt.yticks(fontsize = 12)\n",
        "\n",
        "date_form = DateFormatter(\"%Y-%m-%d\")\n",
        "axes[0].xaxis.set_major_formatter(date_form)\n",
        "\n",
        "# Dias de la semana\n",
        "sns.lineplot(data = df_day, x = 'day_of_week', y = 'Occupancy', linestyle = '--', ax = axes[1])\n",
        "sns.scatterplot(data = df_day, x = 'day_of_week', y = 'Occupancy', ax = axes[1])\n",
        "\n",
        "axes[1].set_title('Habitaciones/Oficina ocupadas', fontsize = 15, pad = 20)\n",
        "axes[1].set_ylabel('')\n",
        "axes[1].set_xlabel('')\n",
        "plt.sca(axes[1])\n",
        "plt.xticks(fontsize = 12, rotation = 90)\n",
        "plt.yticks(fontsize = 12)\n",
        "\n",
        "sns.despine();"
      ]
    },
    {
      "cell_type": "code",
      "execution_count": 467,
      "metadata": {
        "id": "PBKYjSJsxHZA"
      },
      "outputs": [],
      "source": [
        "# Se puede observar diferencias en la cantidad de habitaciones/oficinas ocupadas dependiendo el dia\n",
        "# La mayor ocupacion de habitaciones/oficinas se da los jueves, viernes y lunes"
      ]
    },
    {
      "cell_type": "code",
      "execution_count": 468,
      "metadata": {
        "id": "Z8bfZpCrtezG"
      },
      "outputs": [],
      "source": [
        "# Habitaciones/oficinas ocupadas por hora del dia\n",
        "# https://stackoverflow.com/questions/43585988/python-pandas-sum-by-hour-of-day\n",
        "df_hour = df.groupby([df['date'].dt.hour])[['Occupancy']].sum()\n",
        "df_hour = df_hour.reset_index()"
      ]
    },
    {
      "cell_type": "code",
      "execution_count": 469,
      "metadata": {
        "colab": {
          "base_uri": "https://localhost:8080/",
          "height": 375
        },
        "id": "tV8RPWIFib0l",
        "outputId": "684a4bca-c671-4115-bd29-64c2d8d2e7f4"
      },
      "outputs": [
        {
          "data": {
            "image/png": "[encoded data removed]",
            "text/plain": [
              "<Figure size 720x360 with 1 Axes>"
            ]
          },
          "metadata": {},
          "output_type": "display_data"
        }
      ],
      "source": [
        "fig, ax = plt.subplots(nrows = 1, ncols = 1)\n",
        "\n",
        "sns.barplot(data = df_hour, x = 'date', y = 'Occupancy', color = my_palette[0], ax = ax)\n",
        "plt.title('Habitaciones/Oficinas ocupadas', fontsize = 15, pad = 20)\n",
        "plt.ylabel('')\n",
        "plt.yticks(fontsize = 12)\n",
        "plt.xlabel('Hora del día', fontsize = 12, labelpad = 10)\n",
        "plt.yticks(fontsize = 12)\n",
        "\n",
        "sns.despine()\n",
        "plt.gcf().set_size_inches(10, 5);"
      ]
    },
    {
      "cell_type": "code",
      "execution_count": 470,
      "metadata": {
        "id": "f-nNiFULzrc4"
      },
      "outputs": [],
      "source": [
        "# Se observa una concentracion entre las 8h00 y 17h00, con una reducción alrededor de las 13h00"
      ]
    },
    {
      "cell_type": "markdown",
      "metadata": {
        "id": "S-ge89lT21g0"
      },
      "source": [
        "#### **Machine Learning para predicción**"
      ]
    },
    {
      "cell_type": "code",
      "execution_count": 471,
      "metadata": {
        "id": "SOzvnJ3V4yUF"
      },
      "outputs": [],
      "source": [
        "# Librerias\n",
        "from sklearn.model_selection import train_test_split\n",
        "\n",
        "from sklearn.preprocessing import StandardScaler\n",
        "from sklearn.model_selection import GridSearchCV\n",
        "from sklearn import metrics\n",
        "\n",
        "from sklearn.linear_model import LogisticRegression\n",
        "from sklearn.neighbors import KNeighborsClassifier\n",
        "from sklearn.ensemble import RandomForestClassifier"
      ]
    },
    {
      "cell_type": "markdown",
      "metadata": {
        "id": "Ps6yZaTS1JWB"
      },
      "source": [
        "Matriz de variables explicativas y variable objetivo"
      ]
    },
    {
      "cell_type": "code",
      "execution_count": 472,
      "metadata": {
        "colab": {
          "base_uri": "https://localhost:8080/",
          "height": 236
        },
        "id": "DK6_NtCx0gNE",
        "outputId": "2dbc9042-2cc9-4f51-ccad-5c4f177285ca"
      },
      "outputs": [
        {
          "data": {
            "text/html": [
              "\n",
              "  <div id=\"df-0bfaeb45-5621-4855-87c7-f224e6a623bd\">\n",
              "    <div class=\"colab-df-container\">\n",
              "      <div>\n",
              "<style scoped>\n",
              "    .dataframe tbody tr th:only-of-type {\n",
              "        vertical-align: middle;\n",
              "    }\n",
              "\n",
              "    .dataframe tbody tr th {\n",
              "        vertical-align: top;\n",
              "    }\n",
              "\n",
              "    .dataframe thead th {\n",
              "        text-align: right;\n",
              "    }\n",
              "</style>\n",
              "<table border=\"1\" class=\"dataframe\">\n",
              "  <thead>\n",
              "    <tr style=\"text-align: right;\">\n",
              "      <th></th>\n",
              "      <th>date</th>\n",
              "      <th>Temperature</th>\n",
              "      <th>Humidity</th>\n",
              "      <th>Light</th>\n",
              "      <th>CO2</th>\n",
              "      <th>HumidityRatio</th>\n",
              "      <th>Occupancy</th>\n",
              "      <th>Count</th>\n",
              "      <th>DayWeek_Friday</th>\n",
              "      <th>DayWeek_Monday</th>\n",
              "      <th>...</th>\n",
              "      <th>Hour_14</th>\n",
              "      <th>Hour_15</th>\n",
              "      <th>Hour_16</th>\n",
              "      <th>Hour_17</th>\n",
              "      <th>Hour_18</th>\n",
              "      <th>Hour_19</th>\n",
              "      <th>Hour_20</th>\n",
              "      <th>Hour_21</th>\n",
              "      <th>Hour_22</th>\n",
              "      <th>Hour_23</th>\n",
              "    </tr>\n",
              "  </thead>\n",
              "  <tbody>\n",
              "    <tr>\n",
              "      <th>0</th>\n",
              "      <td>2015-02-04 17:51:00</td>\n",
              "      <td>23.18</td>\n",
              "      <td>27.2720</td>\n",
              "      <td>426.0</td>\n",
              "      <td>721.25</td>\n",
              "      <td>0.004793</td>\n",
              "      <td>1</td>\n",
              "      <td>1</td>\n",
              "      <td>0</td>\n",
              "      <td>0</td>\n",
              "      <td>...</td>\n",
              "      <td>0</td>\n",
              "      <td>0</td>\n",
              "      <td>0</td>\n",
              "      <td>1</td>\n",
              "      <td>0</td>\n",
              "      <td>0</td>\n",
              "      <td>0</td>\n",
              "      <td>0</td>\n",
              "      <td>0</td>\n",
              "      <td>0</td>\n",
              "    </tr>\n",
              "    <tr>\n",
              "      <th>1</th>\n",
              "      <td>2015-02-04 17:51:59</td>\n",
              "      <td>23.15</td>\n",
              "      <td>27.2675</td>\n",
              "      <td>429.5</td>\n",
              "      <td>714.00</td>\n",
              "      <td>0.004783</td>\n",
              "      <td>1</td>\n",
              "      <td>1</td>\n",
              "      <td>0</td>\n",
              "      <td>0</td>\n",
              "      <td>...</td>\n",
              "      <td>0</td>\n",
              "      <td>0</td>\n",
              "      <td>0</td>\n",
              "      <td>1</td>\n",
              "      <td>0</td>\n",
              "      <td>0</td>\n",
              "      <td>0</td>\n",
              "      <td>0</td>\n",
              "      <td>0</td>\n",
              "      <td>0</td>\n",
              "    </tr>\n",
              "    <tr>\n",
              "      <th>2</th>\n",
              "      <td>2015-02-04 17:53:00</td>\n",
              "      <td>23.15</td>\n",
              "      <td>27.2450</td>\n",
              "      <td>426.0</td>\n",
              "      <td>713.50</td>\n",
              "      <td>0.004779</td>\n",
              "      <td>1</td>\n",
              "      <td>1</td>\n",
              "      <td>0</td>\n",
              "      <td>0</td>\n",
              "      <td>...</td>\n",
              "      <td>0</td>\n",
              "      <td>0</td>\n",
              "      <td>0</td>\n",
              "      <td>1</td>\n",
              "      <td>0</td>\n",
              "      <td>0</td>\n",
              "      <td>0</td>\n",
              "      <td>0</td>\n",
              "      <td>0</td>\n",
              "      <td>0</td>\n",
              "    </tr>\n",
              "    <tr>\n",
              "      <th>3</th>\n",
              "      <td>2015-02-04 17:54:00</td>\n",
              "      <td>23.15</td>\n",
              "      <td>27.2000</td>\n",
              "      <td>426.0</td>\n",
              "      <td>708.25</td>\n",
              "      <td>0.004772</td>\n",
              "      <td>1</td>\n",
              "      <td>1</td>\n",
              "      <td>0</td>\n",
              "      <td>0</td>\n",
              "      <td>...</td>\n",
              "      <td>0</td>\n",
              "      <td>0</td>\n",
              "      <td>0</td>\n",
              "      <td>1</td>\n",
              "      <td>0</td>\n",
              "      <td>0</td>\n",
              "      <td>0</td>\n",
              "      <td>0</td>\n",
              "      <td>0</td>\n",
              "      <td>0</td>\n",
              "    </tr>\n",
              "    <tr>\n",
              "      <th>4</th>\n",
              "      <td>2015-02-04 17:55:00</td>\n",
              "      <td>23.10</td>\n",
              "      <td>27.2000</td>\n",
              "      <td>426.0</td>\n",
              "      <td>704.50</td>\n",
              "      <td>0.004757</td>\n",
              "      <td>1</td>\n",
              "      <td>1</td>\n",
              "      <td>0</td>\n",
              "      <td>0</td>\n",
              "      <td>...</td>\n",
              "      <td>0</td>\n",
              "      <td>0</td>\n",
              "      <td>0</td>\n",
              "      <td>1</td>\n",
              "      <td>0</td>\n",
              "      <td>0</td>\n",
              "      <td>0</td>\n",
              "      <td>0</td>\n",
              "      <td>0</td>\n",
              "      <td>0</td>\n",
              "    </tr>\n",
              "  </tbody>\n",
              "</table>\n",
              "<p>5 rows × 39 columns</p>\n",
              "</div>\n",
              "      <button class=\"colab-df-convert\" onclick=\"convertToInteractive('df-0bfaeb45-5621-4855-87c7-f224e6a623bd')\"\n",
              "              title=\"Convert this dataframe to an interactive table.\"\n",
              "              style=\"display:none;\">\n",
              "        \n",
              "  <svg xmlns=\"http://www.w3.org/2000/svg\" height=\"24px\"viewBox=\"0 0 24 24\"\n",
              "       width=\"24px\">\n",
              "    <path d=\"M0 0h24v24H0V0z\" fill=\"none\"/>\n",
              "    <path d=\"M18.56 5.44l.94 2.06.94-2.06 2.06-.94-2.06-.94-.94-2.06-.94 2.06-2.06.94zm-11 1L8.5 8.5l.94-2.06 2.06-.94-2.06-.94L8.5 2.5l-.94 2.06-2.06.94zm10 10l.94 2.06.94-2.06 2.06-.94-2.06-.94-.94-2.06-.94 2.06-2.06.94z\"/><path d=\"M17.41 7.96l-1.37-1.37c-.4-.4-.92-.59-1.43-.59-.52 0-1.04.2-1.43.59L10.3 9.45l-7.72 7.72c-.78.78-.78 2.05 0 2.83L4 21.41c.39.39.9.59 1.41.59.51 0 1.02-.2 1.41-.59l7.78-7.78 2.81-2.81c.8-.78.8-2.07 0-2.86zM5.41 20L4 18.59l7.72-7.72 1.47 1.35L5.41 20z\"/>\n",
              "  </svg>\n",
              "      </button>\n",
              "      \n",
              "  <style>\n",
              "    .colab-df-container {\n",
              "      display:flex;\n",
              "      flex-wrap:wrap;\n",
              "      gap: 12px;\n",
              "    }\n",
              "\n",
              "    .colab-df-convert {\n",
              "      background-color: #E8F0FE;\n",
              "      border: none;\n",
              "      border-radius: 50%;\n",
              "      cursor: pointer;\n",
              "      display: none;\n",
              "      fill: #1967D2;\n",
              "      height: 32px;\n",
              "      padding: 0 0 0 0;\n",
              "      width: 32px;\n",
              "    }\n",
              "\n",
              "    .colab-df-convert:hover {\n",
              "      background-color: #E2EBFA;\n",
              "      box-shadow: 0px 1px 2px rgba(60, 64, 67, 0.3), 0px 1px 3px 1px rgba(60, 64, 67, 0.15);\n",
              "      fill: #174EA6;\n",
              "    }\n",
              "\n",
              "    [theme=dark] .colab-df-convert {\n",
              "      background-color: #3B4455;\n",
              "      fill: #D2E3FC;\n",
              "    }\n",
              "\n",
              "    [theme=dark] .colab-df-convert:hover {\n",
              "      background-color: #434B5C;\n",
              "      box-shadow: 0px 1px 3px 1px rgba(0, 0, 0, 0.15);\n",
              "      filter: drop-shadow(0px 1px 2px rgba(0, 0, 0, 0.3));\n",
              "      fill: #FFFFFF;\n",
              "    }\n",
              "  </style>\n",
              "\n",
              "      <script>\n",
              "        const buttonEl =\n",
              "          document.querySelector('#df-0bfaeb45-5621-4855-87c7-f224e6a623bd button.colab-df-convert');\n",
              "        buttonEl.style.display =\n",
              "          google.colab.kernel.accessAllowed ? 'block' : 'none';\n",
              "\n",
              "        async function convertToInteractive(key) {\n",
              "          const element = document.querySelector('#df-0bfaeb45-5621-4855-87c7-f224e6a623bd');\n",
              "          const dataTable =\n",
              "            await google.colab.kernel.invokeFunction('convertToInteractive',\n",
              "                                                     [key], {});\n",
              "          if (!dataTable) return;\n",
              "\n",
              "          const docLinkHtml = 'Like what you see? Visit the ' +\n",
              "            '<a target=\"_blank\" href=https://colab.research.google.com/notebooks/data_table.ipynb>data table notebook</a>'\n",
              "            + ' to learn more about interactive tables.';\n",
              "          element.innerHTML = '';\n",
              "          dataTable['output_type'] = 'display_data';\n",
              "          await google.colab.output.renderOutput(dataTable, element);\n",
              "          const docLink = document.createElement('div');\n",
              "          docLink.innerHTML = docLinkHtml;\n",
              "          element.appendChild(docLink);\n",
              "        }\n",
              "      </script>\n",
              "    </div>\n",
              "  </div>\n",
              "  "
            ],
            "text/plain": [
              "                 date  Temperature  Humidity  Light     CO2  HumidityRatio  \\\n",
              "0 2015-02-04 17:51:00        23.18   27.2720  426.0  721.25       0.004793   \n",
              "1 2015-02-04 17:51:59        23.15   27.2675  429.5  714.00       0.004783   \n",
              "2 2015-02-04 17:53:00        23.15   27.2450  426.0  713.50       0.004779   \n",
              "3 2015-02-04 17:54:00        23.15   27.2000  426.0  708.25       0.004772   \n",
              "4 2015-02-04 17:55:00        23.10   27.2000  426.0  704.50       0.004757   \n",
              "\n",
              "   Occupancy  Count  DayWeek_Friday  DayWeek_Monday  ...  Hour_14  Hour_15  \\\n",
              "0          1      1               0               0  ...        0        0   \n",
              "1          1      1               0               0  ...        0        0   \n",
              "2          1      1               0               0  ...        0        0   \n",
              "3          1      1               0               0  ...        0        0   \n",
              "4          1      1               0               0  ...        0        0   \n",
              "\n",
              "   Hour_16  Hour_17  Hour_18  Hour_19  Hour_20  Hour_21  Hour_22  Hour_23  \n",
              "0        0        1        0        0        0        0        0        0  \n",
              "1        0        1        0        0        0        0        0        0  \n",
              "2        0        1        0        0        0        0        0        0  \n",
              "3        0        1        0        0        0        0        0        0  \n",
              "4        0        1        0        0        0        0        0        0  \n",
              "\n",
              "[5 rows x 39 columns]"
            ]
          },
          "execution_count": 472,
          "metadata": {},
          "output_type": "execute_result"
        }
      ],
      "source": [
        "# Convertir a dummies los dias de las semanas y las horas del dia\n",
        "df['DayWeek'] = df['date'].dt.day_name()\n",
        "df['Hour'] = df['date'].dt.hour\n",
        "\n",
        "cat_var = ['DayWeek', 'Hour']\n",
        "for cat in cat_var:\n",
        "  df[cat] = df[cat].astype('category')\n",
        "\n",
        "df = pd.get_dummies(df)\n",
        "\n",
        "df.head()"
      ]
    },
    {
      "cell_type": "code",
      "execution_count": 473,
      "metadata": {
        "colab": {
          "base_uri": "https://localhost:8080/"
        },
        "id": "pDhd0x0G3Tyn",
        "outputId": "754c1163-5d9a-43ef-d663-a78d0ec007c8"
      },
      "outputs": [
        {
          "name": "stdout",
          "output_type": "stream",
          "text": [
            "Dimensiones X: (8143, 36)\n",
            "Dimensiones y: (8143,)\n"
          ]
        }
      ],
      "source": [
        "# Matriz de variables explicativas y variable objetivo\n",
        "X_var = df.drop(['date', 'Count', 'Occupancy'], axis = 1).columns\n",
        "X = df.loc[:, X_var]\n",
        "\n",
        "y = df.loc[:, 'Occupancy']. values\n",
        "\n",
        "print('Dimensiones X:', X.shape)\n",
        "print('Dimensiones y:', y.shape)"
      ]
    },
    {
      "cell_type": "code",
      "execution_count": 474,
      "metadata": {
        "id": "k0jg_xR62cFN"
      },
      "outputs": [],
      "source": [
        "# Dividir en conjuntos de prueba y entrenamiento\n",
        "X_train, X_test, y_train, y_test = train_test_split(X, y,\n",
        "                                                    test_size = 0.3,\n",
        "                                                    random_state = 2731,\n",
        "                                                    stratify = y)"
      ]
    },
    {
      "cell_type": "code",
      "execution_count": 475,
      "metadata": {
        "colab": {
          "base_uri": "https://localhost:8080/"
        },
        "id": "O_oL4zolNe0U",
        "outputId": "53deed66-abd8-436a-8fdd-95226487e5b9"
      },
      "outputs": [
        {
          "name": "stdout",
          "output_type": "stream",
          "text": [
            "Train\n",
            "0    78.77\n",
            "1    21.23\n",
            "dtype: float64 \n",
            "\n",
            "Test\n",
            "0    78.76\n",
            "1    21.24\n",
            "dtype: float64 \n",
            "\n"
          ]
        }
      ],
      "source": [
        "# Ver proporcion de 0 y 1 en la base de entrenamiento y test\n",
        "print('Train')\n",
        "print(round(pd.DataFrame(y_train).value_counts() / len(y_train) * 100, 2), '\\n')\n",
        "\n",
        "print('Test')\n",
        "print(round(pd.DataFrame(y_test).value_counts() / len(y_test) * 100, 2), '\\n')"
      ]
    },
    {
      "cell_type": "code",
      "execution_count": 476,
      "metadata": {
        "id": "cP8Bhf6uAJv6"
      },
      "outputs": [],
      "source": [
        "# Aplicar estandarizacion a todas las variables, excepto a las variables binarias\n",
        "# https://stackoverflow.com/questions/27275236/pandas-best-way-to-select-all-columns-whose-names-start-with-x\n",
        "dummy_cols1 = [col for col in df if col.startswith('DayWeek_')]\n",
        "dummy_cols2 = [col for col in df if col.startswith('Hour_')]\n",
        "\n",
        "dummy_cols = dummy_cols1 + dummy_cols2"
      ]
    },
    {
      "cell_type": "code",
      "execution_count": 477,
      "metadata": {
        "id": "YOs2oPk2AzNk"
      },
      "outputs": [],
      "source": [
        "# Variables continuas y binarias\n",
        "X_var2 = X_train.drop(dummy_cols, axis = 1).columns\n",
        "\n",
        "X_train_nodummy = X_train.loc[:, X_var2]\n",
        "X_test_nodummy = X_test.loc[:, X_var2]\n",
        "\n",
        "X_train_dummy = X_train.loc[:, dummy_cols]\n",
        "X_test_dummy = X_test.loc[:, dummy_cols]"
      ]
    },
    {
      "cell_type": "code",
      "execution_count": 478,
      "metadata": {
        "id": "8sr4SM4LBaqw"
      },
      "outputs": [],
      "source": [
        "# Escalar datos - variables continuas\n",
        "scaler = StandardScaler()\n",
        "X_train_nodummy_sc = scaler.fit_transform(X_train_nodummy)\n",
        "X_test_nodummy_sc = scaler.transform(X_test_nodummy)"
      ]
    },
    {
      "cell_type": "code",
      "execution_count": 479,
      "metadata": {
        "id": "UtoKqzM7CvRb"
      },
      "outputs": [],
      "source": [
        "# Unir variables continuas estandarizadas junto con variables categoricas\n",
        "X_train_sc = pd.merge(pd.DataFrame(X_train_nodummy_sc),\n",
        "                      pd.DataFrame(X_train_dummy.reset_index(drop = True).values),\n",
        "                      left_index = True, right_index = True).values\n",
        "\n",
        "X_test_sc = pd.merge(pd.DataFrame(X_test_nodummy_sc),\n",
        "                     pd.DataFrame(X_test_dummy.reset_index(drop = True).values),\n",
        "                     left_index = True, right_index = True).values"
      ]
    },
    {
      "cell_type": "markdown",
      "metadata": {
        "id": "TEw2ZpfXOgxH"
      },
      "source": [
        "Estimación de modelos"
      ]
    },
    {
      "cell_type": "code",
      "execution_count": 480,
      "metadata": {
        "id": "sdlN_nZORBzS"
      },
      "outputs": [],
      "source": [
        "# Funcion para obtener metricas de validacion de los modelos a ser probados\n",
        "\n",
        "def model_class(model, X_train, X_test, y_train, y_test, method):\n",
        "  # Seed\n",
        "  np.random.seed(2731)\n",
        "  # Estimacion\n",
        "  model.fit(X_train, y_train)\n",
        "  # Metricas\n",
        "  Score_train = model.score(X_train, y_train)\n",
        "  Score_test = model.score(X_test, y_test)\n",
        "  # Resultados\n",
        "  print(f'\\nReporte del modelo\\n{method}\\n')\n",
        "  print(f'Mean accuracy (Train): {Score_train:.4f}')\n",
        "  print(f'Mean accuracy (Test): {Score_test:.4f}')"
      ]
    },
    {
      "cell_type": "markdown",
      "metadata": {
        "id": "mFquNTJ4PNJv"
      },
      "source": [
        "* KNN"
      ]
    },
    {
      "cell_type": "code",
      "execution_count": 481,
      "metadata": {
        "colab": {
          "base_uri": "https://localhost:8080/"
        },
        "id": "UC2u4mdxPQst",
        "outputId": "bd13c896-e0d5-4515-f077-107c1dff1178"
      },
      "outputs": [
        {
          "data": {
            "text/plain": [
              "GridSearchCV(cv=10, estimator=KNeighborsClassifier(),\n",
              "             param_grid={'n_neighbors': range(2, 40),\n",
              "                         'weights': ['uniform', 'distance']})"
            ]
          },
          "execution_count": 481,
          "metadata": {},
          "output_type": "execute_result"
        }
      ],
      "source": [
        "# Encontrar cantidad optima de k y el peso a utilizar \n",
        "np.random.seed(2731) # seed\n",
        "\n",
        "# Modelo\n",
        "knn_class = KNeighborsClassifier()\n",
        "\n",
        "# Parametros a evaluar en la funcion 'GridSearchCV'\n",
        "parameters = {'n_neighbors': range(2, 40, 1),\n",
        "              'weights': ['uniform', 'distance']} \n",
        "\n",
        "# Determinacion y ejecucion del modelo\n",
        "gridsearch_knn_class = GridSearchCV(knn_class, parameters, cv = 10)\n",
        "gridsearch_knn_class.fit(X_train_sc, y_train)"
      ]
    },
    {
      "cell_type": "code",
      "execution_count": 482,
      "metadata": {
        "colab": {
          "base_uri": "https://localhost:8080/"
        },
        "id": "K29eFcY1Rz0G",
        "outputId": "ef94ac98-756a-4e25-b54e-36c7115b4ae6"
      },
      "outputs": [
        {
          "name": "stdout",
          "output_type": "stream",
          "text": [
            "{'n_neighbors': 5, 'weights': 'distance'}\n"
          ]
        }
      ],
      "source": [
        "# Resultado\n",
        "print(gridsearch_knn_class.best_params_)\n",
        "\n",
        "k_opt = gridsearch_knn_class.best_params_['n_neighbors']\n",
        "w_opt = gridsearch_knn_class.best_params_['weights']"
      ]
    },
    {
      "cell_type": "code",
      "execution_count": 483,
      "metadata": {
        "colab": {
          "base_uri": "https://localhost:8080/"
        },
        "id": "_CJVD97NSZmN",
        "outputId": "cb894687-0113-4287-8e2d-21f010620218"
      },
      "outputs": [
        {
          "name": "stdout",
          "output_type": "stream",
          "text": [
            "\n",
            "Reporte del modelo\n",
            "KNeighbors Classifier\n",
            "\n",
            "Mean accuracy (Train): 1.0000\n",
            "Mean accuracy (Test): 0.9902\n"
          ]
        }
      ],
      "source": [
        "# Estimacion\n",
        "knn_class = KNeighborsClassifier(n_neighbors = k_opt, \n",
        "                                 weights = w_opt)\n",
        "\n",
        "model_class(knn_class, X_train_sc, X_test_sc, y_train, y_test, 'KNeighbors Classifier')"
      ]
    },
    {
      "cell_type": "markdown",
      "metadata": {
        "id": "aJ4gSiFAPRB2"
      },
      "source": [
        "* Regresión Logit"
      ]
    },
    {
      "cell_type": "code",
      "execution_count": 484,
      "metadata": {
        "id": "pjZBLSzdYGFN"
      },
      "outputs": [],
      "source": [
        "# Librerias\n",
        "from sklearn.metrics import roc_auc_score, plot_roc_curve"
      ]
    },
    {
      "cell_type": "code",
      "execution_count": 485,
      "metadata": {
        "id": "DCgoz0aswzqc"
      },
      "outputs": [],
      "source": [
        "# Lista de valores a probar para 'C'\n",
        "scores = []\n",
        "C_range = [1] + list(range(10, 110, 10))\n",
        "for c in C_range:\n",
        "  log_regress = LogisticRegression(C = c, solver = 'liblinear', max_iter = 1000)\n",
        "  log_regress.fit(X_train_sc, y_train)\n",
        "  score = log_regress.score(X_test_sc, y_test)\n",
        "  scores.append(score)"
      ]
    },
    {
      "cell_type": "code",
      "execution_count": 486,
      "metadata": {
        "colab": {
          "base_uri": "https://localhost:8080/",
          "height": 337
        },
        "id": "kx2DVp0vx-lD",
        "outputId": "d58ad61e-9d98-4f83-8778-fa693e4c075f"
      },
      "outputs": [
        {
          "data": {
            "image/png": "[encoded data removed]",
            "text/plain": [
              "<Figure size 360x360 with 1 Axes>"
            ]
          },
          "metadata": {},
          "output_type": "display_data"
        }
      ],
      "source": [
        "fig, axes = plt.subplots(nrows = 1, ncols = 1, figsize = (5, 5))\n",
        "axes.plot(C_range, scores, marker = '.')\n",
        "axes.set_xlabel('max_depth', fontsize = 12)\n",
        "axes.set_ylabel('Accuracy', fontsize = 12);"
      ]
    },
    {
      "cell_type": "code",
      "execution_count": 487,
      "metadata": {
        "colab": {
          "base_uri": "https://localhost:8080/"
        },
        "id": "zm9LWiX2WTr4",
        "outputId": "cc61d201-2290-465f-b96c-bdbd95e36b27"
      },
      "outputs": [
        {
          "name": "stdout",
          "output_type": "stream",
          "text": [
            "0.9901760130986492\n",
            "1\n"
          ]
        }
      ],
      "source": [
        "max_value = max(scores)\n",
        "max_index = scores.index(max_value)\n",
        "\n",
        "print(max_value)\n",
        "print(max_index)"
      ]
    },
    {
      "cell_type": "code",
      "execution_count": 488,
      "metadata": {
        "id": "Y6BO8a9_XdAu"
      },
      "outputs": [],
      "source": [
        "C_opt = C_range[max_index]"
      ]
    },
    {
      "cell_type": "code",
      "execution_count": 489,
      "metadata": {
        "id": "zkytLiCyGGUu"
      },
      "outputs": [],
      "source": [
        "# Lista de valores a probar para 'penalty'\n",
        "scores = []\n",
        "for pen in ['l1', 'l2']:\n",
        "  log_regress = LogisticRegression(C = C_opt, solver = 'liblinear', penalty = pen, max_iter = 1000)\n",
        "  log_regress.fit(X_train_sc, y_train)\n",
        "  score = log_regress.score(X_test_sc, y_test)\n",
        "  scores.append(score)"
      ]
    },
    {
      "cell_type": "code",
      "execution_count": 490,
      "metadata": {
        "colab": {
          "base_uri": "https://localhost:8080/"
        },
        "id": "iwdX_7d7GGUw",
        "outputId": "949b4831-6dd0-4bd8-dcc2-d8ffb44ffd71"
      },
      "outputs": [
        {
          "data": {
            "text/plain": [
              "[('l1', 0.9905853458862055), ('l2', 0.9901760130986492)]"
            ]
          },
          "execution_count": 490,
          "metadata": {},
          "output_type": "execute_result"
        }
      ],
      "source": [
        "max_value = max(scores)\n",
        "max_index = scores.index(max_value)\n",
        "\n",
        "list(zip(['l1', 'l2'], scores))"
      ]
    },
    {
      "cell_type": "code",
      "execution_count": 491,
      "metadata": {
        "colab": {
          "base_uri": "https://localhost:8080/"
        },
        "id": "ZEBSxgQ9XLcy",
        "outputId": "827a660b-5ad4-41ff-f0c4-716642bb7369"
      },
      "outputs": [
        {
          "name": "stdout",
          "output_type": "stream",
          "text": [
            "\n",
            "Reporte del modelo\n",
            "Logistic Regression: L1\n",
            "\n",
            "Mean accuracy (Train): 0.9919\n",
            "Mean accuracy (Test): 0.9906\n"
          ]
        }
      ],
      "source": [
        "# Estimacion\n",
        "log_regress = LogisticRegression(C = C_opt, \n",
        "                                 penalty = 'l1', \n",
        "                                 solver = 'liblinear', \n",
        "                                 max_iter = 1000)\n",
        "\n",
        "model_class(log_regress, X_train_sc, X_test_sc, y_train, y_test, 'Logistic Regression: L1')"
      ]
    },
    {
      "cell_type": "code",
      "execution_count": 492,
      "metadata": {
        "colab": {
          "base_uri": "https://localhost:8080/"
        },
        "id": "D2eqzLLaXzJm",
        "outputId": "aec27ce4-d46d-4247-c577-126644842922"
      },
      "outputs": [
        {
          "name": "stdout",
          "output_type": "stream",
          "text": [
            "Training AUC: 0.99917\n",
            "Test AUC: 0.9986\n"
          ]
        }
      ],
      "source": [
        "# Area debajo de la curva ROC\n",
        "roc_auc_score_train = roc_auc_score(y_train, log_regress.predict_proba(X_train_sc)[:, 1])\n",
        "roc_auc_score_test = roc_auc_score(y_test, log_regress.predict_proba(X_test_sc)[:, 1])\n",
        "\n",
        "print(f'Training AUC: {round(roc_auc_score_train, 5)}')\n",
        "print(f'Test AUC: {round(roc_auc_score_test, 5)}')"
      ]
    },
    {
      "cell_type": "code",
      "execution_count": 493,
      "metadata": {
        "colab": {
          "base_uri": "https://localhost:8080/",
          "height": 352
        },
        "id": "2DqtO7GTXtqU",
        "outputId": "32ce3159-aaf4-4827-e487-2919f85d3762"
      },
      "outputs": [
        {
          "name": "stderr",
          "output_type": "stream",
          "text": [
            "/usr/local/lib/python3.7/dist-packages/sklearn/utils/deprecation.py:87: FutureWarning: Function plot_roc_curve is deprecated; Function :func:`plot_roc_curve` is deprecated in 1.0 and will be removed in 1.2. Use one of the class methods: :meth:`sklearn.metric.RocCurveDisplay.from_predictions` or :meth:`sklearn.metric.RocCurveDisplay.from_estimator`.\n",
            "  warnings.warn(msg, category=FutureWarning)\n"
          ]
        },
        {
          "data": {
            "image/png": "[encoded data removed]",
            "text/plain": [
              "<Figure size 432x288 with 1 Axes>"
            ]
          },
          "metadata": {},
          "output_type": "display_data"
        }
      ],
      "source": [
        "# Visualizar la curva ROC\n",
        "plot_roc_curve(log_regress, X_train_sc, y_train)\n",
        "plt.plot([0, 1], [0, 1], ls = '--', label = 'Baseline (AUC = 0.5)')\n",
        "plt.title('Training dataset')\n",
        "plt.legend();"
      ]
    },
    {
      "cell_type": "code",
      "execution_count": 494,
      "metadata": {
        "colab": {
          "base_uri": "https://localhost:8080/",
          "height": 352
        },
        "id": "DAyws8-TYSn4",
        "outputId": "a68c9059-8934-4e72-c2b9-83f6db57d480"
      },
      "outputs": [
        {
          "name": "stderr",
          "output_type": "stream",
          "text": [
            "/usr/local/lib/python3.7/dist-packages/sklearn/utils/deprecation.py:87: FutureWarning: Function plot_roc_curve is deprecated; Function :func:`plot_roc_curve` is deprecated in 1.0 and will be removed in 1.2. Use one of the class methods: :meth:`sklearn.metric.RocCurveDisplay.from_predictions` or :meth:`sklearn.metric.RocCurveDisplay.from_estimator`.\n",
            "  warnings.warn(msg, category=FutureWarning)\n"
          ]
        },
        {
          "data": {
            "image/png": "[encoded data removed]",
            "text/plain": [
              "<Figure size 432x288 with 1 Axes>"
            ]
          },
          "metadata": {},
          "output_type": "display_data"
        }
      ],
      "source": [
        "# Visualizar la curva ROC\n",
        "plot_roc_curve(log_regress, X_test_sc, y_test)\n",
        "plt.plot([0, 1], [0, 1], ls = '--', label = 'Baseline (AUC = 0.5)')\n",
        "plt.title('Testing dataset')\n",
        "plt.legend();"
      ]
    },
    {
      "cell_type": "markdown",
      "metadata": {
        "id": "NqaG64YIPTdn"
      },
      "source": [
        "* Random Forest - Datos escalados"
      ]
    },
    {
      "cell_type": "code",
      "execution_count": 495,
      "metadata": {
        "id": "7lalqCKhY69z"
      },
      "outputs": [],
      "source": [
        "# Lista para almacenar los scores para cada valor de n_estimators\n",
        "scores = []\n",
        "n_estimator_range = [1] + list(range(10, 210, 10))\n",
        "for estimator in n_estimator_range:\n",
        "  rfor_class = RandomForestClassifier(n_estimators = estimator, bootstrap = True, random_state = 2731)\n",
        "  rfor_class.fit(X_train_sc, y_train)\n",
        "  score = rfor_class.score(X_test_sc, y_test)\n",
        "  scores.append(score)"
      ]
    },
    {
      "cell_type": "code",
      "execution_count": 496,
      "metadata": {
        "colab": {
          "base_uri": "https://localhost:8080/",
          "height": 337
        },
        "id": "bp44jx2PZ6nq",
        "outputId": "fe8698ae-5b12-4186-9d8c-6c5dbd638e8a"
      },
      "outputs": [
        {
          "data": {
            "image/png": "[encoded data removed]",
            "text/plain": [
              "<Figure size 360x360 with 1 Axes>"
            ]
          },
          "metadata": {},
          "output_type": "display_data"
        }
      ],
      "source": [
        "fig, axes = plt.subplots(nrows = 1, ncols = 1, figsize = (5, 5))\n",
        "axes.plot(n_estimator_range, scores)\n",
        "axes.set_xlabel('n_estimators', fontsize = 12)\n",
        "axes.set_ylabel('Accuracy', fontsize = 12);"
      ]
    },
    {
      "cell_type": "code",
      "execution_count": 497,
      "metadata": {
        "colab": {
          "base_uri": "https://localhost:8080/"
        },
        "id": "m1xGE5oPZSUe",
        "outputId": "b44e9233-4ede-4672-8049-a92c89ae61ac"
      },
      "outputs": [
        {
          "name": "stdout",
          "output_type": "stream",
          "text": [
            "0.9901760130986492\n",
            "11\n"
          ]
        }
      ],
      "source": [
        "max_value = max(scores)\n",
        "max_index = scores.index(max_value)\n",
        "\n",
        "print(max_value)\n",
        "print(max_index)"
      ]
    },
    {
      "cell_type": "code",
      "execution_count": 498,
      "metadata": {
        "id": "hrlPQ7v2ZV03"
      },
      "outputs": [],
      "source": [
        "n_est_opt1 = n_estimator_range[max_index]"
      ]
    },
    {
      "cell_type": "code",
      "execution_count": 499,
      "metadata": {
        "colab": {
          "base_uri": "https://localhost:8080/"
        },
        "id": "2ib0XUEqaCtC",
        "outputId": "c32a3686-6804-4b05-a31f-65232d62179e"
      },
      "outputs": [
        {
          "name": "stdout",
          "output_type": "stream",
          "text": [
            "\n",
            "Reporte del modelo\n",
            "Random Forest Classifier: Standardized data\n",
            "\n",
            "Mean accuracy (Train): 1.0000\n",
            "Mean accuracy (Test): 0.9902\n"
          ]
        }
      ],
      "source": [
        "# Estimacion\n",
        "rfor_class1 = RandomForestClassifier(n_estimators = n_est_opt1,\n",
        "                                     bootstrap = True,\n",
        "                                     random_state = 2731)\n",
        "\n",
        "model_class(rfor_class1, X_train_sc, X_test_sc, y_train, y_test, 'Random Forest Classifier: Standardized data')"
      ]
    },
    {
      "cell_type": "markdown",
      "metadata": {
        "id": "dlQZe7LzZPq8"
      },
      "source": [
        "* Random Forest - Datos a nivel"
      ]
    },
    {
      "cell_type": "code",
      "execution_count": 500,
      "metadata": {
        "id": "FISxb4BdacAu"
      },
      "outputs": [],
      "source": [
        "# Lista para almacenar los scores para cada valor de n_estimators\n",
        "scores = []\n",
        "n_estimator_range = [1] + list(range(10, 210, 10))\n",
        "for estimator in n_estimator_range:\n",
        "  rfor_class = RandomForestClassifier(n_estimators = estimator, bootstrap = True, random_state = 2731)\n",
        "  rfor_class.fit(X_train, y_train)\n",
        "  score = rfor_class.score(X_test, y_test)\n",
        "  scores.append(score)"
      ]
    },
    {
      "cell_type": "code",
      "execution_count": 501,
      "metadata": {
        "colab": {
          "base_uri": "https://localhost:8080/",
          "height": 337
        },
        "id": "NwmMSIRVamzz",
        "outputId": "393a8297-3752-48ca-e1da-10b32e1c4f87"
      },
      "outputs": [
        {
          "data": {
            "image/png": "[encoded data removed]",
            "text/plain": [
              "<Figure size 360x360 with 1 Axes>"
            ]
          },
          "metadata": {},
          "output_type": "display_data"
        }
      ],
      "source": [
        "fig, axes = plt.subplots(nrows = 1, ncols = 1, figsize = (5, 5))\n",
        "axes.plot(n_estimator_range, scores)\n",
        "axes.set_xlabel('n_estimators', fontsize = 12)\n",
        "axes.set_ylabel('Accuracy', fontsize = 12);"
      ]
    },
    {
      "cell_type": "code",
      "execution_count": 502,
      "metadata": {
        "colab": {
          "base_uri": "https://localhost:8080/"
        },
        "id": "Y8MSQSbPaocM",
        "outputId": "4e8b505c-8556-4163-9af3-f67cf65b08bd"
      },
      "outputs": [
        {
          "name": "stdout",
          "output_type": "stream",
          "text": [
            "0.9901760130986492\n",
            "11\n"
          ]
        }
      ],
      "source": [
        "max_value = max(scores)\n",
        "max_index = scores.index(max_value)\n",
        "\n",
        "print(max_value)\n",
        "print(max_index)"
      ]
    },
    {
      "cell_type": "code",
      "execution_count": 503,
      "metadata": {
        "id": "VZOzHgF2apcr"
      },
      "outputs": [],
      "source": [
        "n_est_opt2 = n_estimator_range[max_index]"
      ]
    },
    {
      "cell_type": "code",
      "execution_count": 504,
      "metadata": {
        "colab": {
          "base_uri": "https://localhost:8080/"
        },
        "id": "pea6R1A5as-f",
        "outputId": "60be91ea-b6bd-4361-bbd7-58f455711194"
      },
      "outputs": [
        {
          "name": "stdout",
          "output_type": "stream",
          "text": [
            "\n",
            "Reporte del modelo\n",
            "Random Forest Classifier: No standardized data\n",
            "\n",
            "Mean accuracy (Train): 1.0000\n",
            "Mean accuracy (Test): 0.9902\n"
          ]
        }
      ],
      "source": [
        "# Estimacion\n",
        "rfor_class2 = RandomForestClassifier(n_estimators = n_est_opt2,\n",
        "                                     bootstrap = True,\n",
        "                                     random_state = 2731)\n",
        "\n",
        "model_class(rfor_class2, X_train, X_test, y_train, y_test, 'Random Forest Classifier: No standardized data')"
      ]
    },
    {
      "cell_type": "markdown",
      "metadata": {
        "id": "o3TzH6OhbKH-"
      },
      "source": [
        "#### **Resultados**"
      ]
    },
    {
      "cell_type": "code",
      "execution_count": 505,
      "metadata": {
        "colab": {
          "base_uri": "https://localhost:8080/"
        },
        "id": "LvQibUjDb-S5",
        "outputId": "bc7f5471-7034-47b9-af23-04cc8590d4b5"
      },
      "outputs": [
        {
          "name": "stdout",
          "output_type": "stream",
          "text": [
            "\n",
            "Reporte del modelo\n",
            "KNeighbors Classifier\n",
            "\n",
            "Mean accuracy (Train): 1.0000\n",
            "Mean accuracy (Test): 0.9902\n"
          ]
        }
      ],
      "source": [
        "model_class(knn_class, X_train_sc, X_test_sc, y_train, y_test, 'KNeighbors Classifier')"
      ]
    },
    {
      "cell_type": "code",
      "execution_count": 506,
      "metadata": {
        "colab": {
          "base_uri": "https://localhost:8080/"
        },
        "id": "h6mg5DvXcQZe",
        "outputId": "f7e96c17-ab83-49bf-a574-128e071e24b2"
      },
      "outputs": [
        {
          "name": "stdout",
          "output_type": "stream",
          "text": [
            "\n",
            "Reporte del modelo\n",
            "Logistic Regression: L1\n",
            "\n",
            "Mean accuracy (Train): 0.9919\n",
            "Mean accuracy (Test): 0.9906\n"
          ]
        }
      ],
      "source": [
        "model_class(log_regress, X_train_sc, X_test_sc, y_train, y_test, 'Logistic Regression: L1')"
      ]
    },
    {
      "cell_type": "code",
      "execution_count": 507,
      "metadata": {
        "colab": {
          "base_uri": "https://localhost:8080/"
        },
        "id": "cYD4uUPUcRiS",
        "outputId": "ae74bb32-cdb2-4faf-c40b-f67b05c48805"
      },
      "outputs": [
        {
          "name": "stdout",
          "output_type": "stream",
          "text": [
            "\n",
            "Reporte del modelo\n",
            "Random Forest Classifier: Standardized data\n",
            "\n",
            "Mean accuracy (Train): 1.0000\n",
            "Mean accuracy (Test): 0.9902\n"
          ]
        }
      ],
      "source": [
        "model_class(rfor_class1, X_train_sc, X_test_sc, y_train, y_test, 'Random Forest Classifier: Standardized data')"
      ]
    },
    {
      "cell_type": "code",
      "execution_count": 508,
      "metadata": {
        "colab": {
          "base_uri": "https://localhost:8080/"
        },
        "id": "UrLu549bcTDT",
        "outputId": "41bcb15c-b48c-40c3-e12f-1245a865d4c6"
      },
      "outputs": [
        {
          "name": "stdout",
          "output_type": "stream",
          "text": [
            "\n",
            "Reporte del modelo\n",
            "Random Forest Classifier: No standardized data\n",
            "\n",
            "Mean accuracy (Train): 1.0000\n",
            "Mean accuracy (Test): 0.9902\n"
          ]
        }
      ],
      "source": [
        "model_class(rfor_class2, X_train, X_test, y_train, y_test, 'Random Forest Classifier: No standardized data')"
      ]
    },
    {
      "cell_type": "markdown",
      "metadata": {
        "id": "aa-Gy9rfcoqr"
      },
      "source": [
        "En función de estos resultados, se opta por el modelo de Regresión Logística. LA AUC del ROC tiende a ser cercana a 1, tanto en la muestra de entrenamiento como en la de validación, lo que sugiere una buena capacidad del modelo para distinguir o discriminar entre los casos de 1 y 0 para determinar si la sala de oficina está ocupada o no. No obstante, como se puede observar, los resultados muestran que los distintos modelos empleados tienden a tener un precisión, cercana a 1, tanto en la base de entrenamiento como de prueba."
      ]
    },
    {
      "cell_type": "code",
      "execution_count": 508,
      "metadata": {
        "id": "j5MGjjLBcVYf"
      },
      "outputs": [],
      "source": []
    }
  ],
  "metadata": {
    "colab": {
      "collapsed_sections": [],
      "name": "Examen2_FV.ipynb",
      "provenance": []
    },
    "kernelspec": {
      "display_name": "Python 3",
      "name": "python3"
    },
    "language_info": {
      "name": "python"
    }
  },
  "nbformat": 4,
  "nbformat_minor": 0
}
